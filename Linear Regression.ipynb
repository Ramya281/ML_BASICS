{
 "cells": [
  {
   "cell_type": "code",
   "execution_count": 2,
   "metadata": {},
   "outputs": [],
   "source": [
    "#import packages\n",
    "from pandas import read_csv\n",
    "from sklearn.model_selection import train_test_split"
   ]
  },
  {
   "cell_type": "code",
   "execution_count": 3,
   "metadata": {},
   "outputs": [],
   "source": [
    "#loading dataset\n",
    "def load_dataset(fname):\n",
    "    data=read_csv(fname)\n",
    "    dataset=data.values\n",
    "    X=dataset[:,:-1]\n",
    "    y=dataset[:,-1]\n",
    "    return X,y"
   ]
  },
  {
   "cell_type": "code",
   "execution_count": 4,
   "metadata": {},
   "outputs": [
    {
     "name": "stdout",
     "output_type": "stream",
     "text": [
      "Train (339, 13) (339,)\n",
      "Test (167, 13) (167,)\n"
     ]
    }
   ],
   "source": [
    "#Train Test split\n",
    "X,y=load_dataset('E:\\\\sweetlin-official\\\\Win 2022 -23\\\\Data Analytics\\\\Lab\\dataset\\\\BostonHousing.csv')\n",
    "X_train,X_test,y_train,y_test=train_test_split(X,y,test_size=0.33,random_state=1)\n",
    "print('Train',X_train.shape,y_train.shape)\n",
    "print('Test',X_test.shape,y_test.shape)"
   ]
  },
  {
   "cell_type": "code",
   "execution_count": 6,
   "metadata": {},
   "outputs": [],
   "source": [
    "from sklearn.linear_model import LinearRegression"
   ]
  },
  {
   "cell_type": "code",
   "execution_count": 11,
   "metadata": {},
   "outputs": [
    {
     "data": {
      "text/plain": [
       "LinearRegression(copy_X=True, fit_intercept=True, n_jobs=None, normalize=False)"
      ]
     },
     "execution_count": 11,
     "metadata": {},
     "output_type": "execute_result"
    }
   ],
   "source": [
    "#model building\n",
    "model=LinearRegression()\n",
    "model.fit(X_train,y_train)"
   ]
  },
  {
   "cell_type": "code",
   "execution_count": 12,
   "metadata": {},
   "outputs": [
    {
     "name": "stdout",
     "output_type": "stream",
     "text": [
      "R-square value 0.7217346524579972\n"
     ]
    }
   ],
   "source": [
    "#model score\n",
    "rsq=model.score(X_train,y_train)\n",
    "print(\"R-square value\",rsq)"
   ]
  },
  {
   "cell_type": "code",
   "execution_count": 13,
   "metadata": {},
   "outputs": [
    {
     "name": "stdout",
     "output_type": "stream",
     "text": [
      "w0 39.6828079274999\n",
      "w1 [-9.91995332e-02  6.27806786e-02  7.25812126e-02  3.01077411e+00\n",
      " -2.06617880e+01  3.44496595e+00  3.78004138e-03 -1.44827470e+00\n",
      "  3.09305140e-01 -1.16485640e-02 -9.46002716e-01  7.20017685e-03\n",
      " -5.28368116e-01]\n"
     ]
    }
   ],
   "source": [
    "#model parameters\n",
    "print('w0',model.intercept_)\n",
    "print('w1',model.coef_)"
   ]
  },
  {
   "cell_type": "code",
   "execution_count": 14,
   "metadata": {},
   "outputs": [],
   "source": [
    "#prediction\n",
    "ypred=model.predict(X_test)"
   ]
  },
  {
   "cell_type": "code",
   "execution_count": 21,
   "metadata": {},
   "outputs": [],
   "source": [
    "from sklearn.metrics import mean_squared_error,mean_absolute_error\n",
    "import math"
   ]
  },
  {
   "cell_type": "code",
   "execution_count": 22,
   "metadata": {},
   "outputs": [
    {
     "name": "stdout",
     "output_type": "stream",
     "text": [
      "Mean squared Error 20.698475744484426\n",
      "Root Mean squared Error 4.549557752626559\n"
     ]
    }
   ],
   "source": [
    "#Evaluate the model\n",
    "MSE=mean_squared_error(y_test,ypred)\n",
    "RMSE=math.sqrt(MSE)\n",
    "print('Mean squared Error',MSE)\n",
    "print('Root Mean squared Error',RMSE)"
   ]
  },
  {
   "cell_type": "code",
   "execution_count": 19,
   "metadata": {},
   "outputs": [
    {
     "name": "stdout",
     "output_type": "stream",
     "text": [
      "Mean Absolute Error 3.4174722788016676\n"
     ]
    }
   ],
   "source": [
    "#Evaluate the model\n",
    "MAE=mean_absolute_error(y_test,ypred)\n",
    "print('Mean Absolute Error',MAE)"
   ]
  }
 ],
 "metadata": {
  "kernelspec": {
   "display_name": "Python 3",
   "language": "python",
   "name": "python3"
  },
  "language_info": {
   "codemirror_mode": {
    "name": "ipython",
    "version": 3
   },
   "file_extension": ".py",
   "mimetype": "text/x-python",
   "name": "python",
   "nbconvert_exporter": "python",
   "pygments_lexer": "ipython3",
   "version": "3.7.6"
  }
 },
 "nbformat": 4,
 "nbformat_minor": 4
}
